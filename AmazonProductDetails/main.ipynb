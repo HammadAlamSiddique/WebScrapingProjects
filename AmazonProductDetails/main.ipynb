{
 "cells": [
  {
   "cell_type": "code",
   "execution_count": 47,
   "metadata": {},
   "outputs": [],
   "source": [
    "from selenium import webdriver\n",
    "from selenium.webdriver.common.by import By\n",
    "from selenium.webdriver.common.keys import Keys\n",
    "from selenium.webdriver.support.ui import WebDriverWait\n",
    "from selenium.webdriver.support import expected_conditions as EC\n",
    "from bs4 import BeautifulSoup\n",
    "import pandas as pd\n",
    "import time\n",
    "import datetime\n",
    "driver = webdriver.Chrome('C:/Users/Hammad/Downloads/Compressed/chromedriver.exe')\n",
    "url = \"https://www.amazon.com/TracFone-Nokia-Prepaid-Smartphone-Locked/dp/B09X7FF6S2/ref=sr_1_7_sspa?keywords=infinix%2Bmobile%2Bphone&qid=1676891528&sr=8-7-spons&psc=1&spLa=ZW5jcnlwdGVkUXVhbGlmaWVyPUEzNTdPWjZUSFQ3NTVQJmVuY3J5cHRlZElkPUEwMjQ2NzEwMzRBNTVaTVNPRlhUWCZlbmNyeXB0ZWRBZElkPUEwNDcwOTA3M0w1NEQzRk03SUVWRSZ3aWRnZXROYW1lPXNwX210ZiZhY3Rpb249Y2xpY2tSZWRpcmVjdCZkb05vdExvZ0NsaWNrPXRydWU=\"\n",
    "driver.get(url)\n",
    "time.sleep(2)"
   ]
  },
  {
   "cell_type": "code",
   "execution_count": 48,
   "metadata": {},
   "outputs": [],
   "source": [
    "product_details = []\n",
    "def price_check():\n",
    "    soup = BeautifulSoup(driver.page_source, 'html.parser')\n",
    "\n",
    "    title = soup.find('span', id='productTitle').text.strip()\n",
    "    price = soup.find('span', 'a-offscreen').text.strip()[1:]\n",
    "    date = datetime.date.today()\n",
    "\n",
    "    product_dict = {\n",
    "        'Title' : title,\n",
    "        'Price' : price,\n",
    "        'Date' : date\n",
    "    }\n",
    "\n",
    "    product_details.append(product_dict)"
   ]
  },
  {
   "cell_type": "code",
   "execution_count": 49,
   "metadata": {},
   "outputs": [],
   "source": [
    "for i in range(10):\n",
    "    price_check()\n",
    "    # time.sleep(86400)   # we can set time here for code execution"
   ]
  },
  {
   "cell_type": "code",
   "execution_count": 50,
   "metadata": {},
   "outputs": [],
   "source": [
    "df = pd.DataFrame(product_details)\n",
    "df.to_csv('ProductPrice.csv', index=False)"
   ]
  }
 ],
 "metadata": {
  "kernelspec": {
   "display_name": "Python 3",
   "language": "python",
   "name": "python3"
  },
  "language_info": {
   "codemirror_mode": {
    "name": "ipython",
    "version": 3
   },
   "file_extension": ".py",
   "mimetype": "text/x-python",
   "name": "python",
   "nbconvert_exporter": "python",
   "pygments_lexer": "ipython3",
   "version": "3.11.0"
  },
  "orig_nbformat": 4,
  "vscode": {
   "interpreter": {
    "hash": "418130ca483e386e143512f23ae96779bdad47ad4e6a59ff8b72600d5f974771"
   }
  }
 },
 "nbformat": 4,
 "nbformat_minor": 2
}
